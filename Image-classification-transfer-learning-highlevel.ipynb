{
 "cells": [
  {
   "cell_type": "markdown",
   "metadata": {},
   "source": [
    "## Prequisites and Preprocessing\n",
    "\n",
    "### Permissions and environment variables\n",
    "\n",
    "Here we set up the linkage and authentication to AWS services. There are three parts to this:\n",
    "\n",
    "* The roles used to give learning and hosting access to your data. This will automatically be obtained from the role used to start the notebook\n",
    "* The S3 bucket that you want to use for training and model data\n",
    "* The Amazon sagemaker image classification docker image which need not be changed"
   ]
  },
  {
   "cell_type": "code",
   "execution_count": null,
   "metadata": {},
   "outputs": [],
   "source": [
    "%%time\n",
    "import sagemaker\n",
    "from sagemaker import get_execution_role\n",
    "\n",
    "role = get_execution_role()\n",
    "sess = sagemaker.Session()\n",
    "bucket = sess.default_bucket()\n",
    "prefix = 'ic-transfer-learning'"
   ]
  },
  {
   "cell_type": "code",
   "execution_count": null,
   "metadata": {},
   "outputs": [],
   "source": [
    "from sagemaker.amazon.amazon_estimator import get_image_uri\n",
    "\n",
    "training_image = get_image_uri(sess.boto_region_name, 'image-classification', repo_version=\"latest\")"
   ]
  },
  {
   "cell_type": "markdown",
   "metadata": {},
   "source": [
    "## Preparing data for our model"
   ]
  },
  {
   "cell_type": "markdown",
   "metadata": {},
   "source": [
    "### Configure where to fetch our training data:"
   ]
  },
  {
   "cell_type": "code",
   "execution_count": null,
   "metadata": {},
   "outputs": [],
   "source": [
    "data_bucket_name='s3webcamuploader83a65c76f8384092b63d212639122190' # An S3 Bucket Name\n",
    "dataset_name = 'objects-home-a' # A path inside the S3 bucket containing sub-folders of images (one per label class)"
   ]
  },
  {
   "cell_type": "markdown",
   "metadata": {},
   "source": [
    "Set up some environment variables"
   ]
  },
  {
   "cell_type": "code",
   "execution_count": null,
   "metadata": {},
   "outputs": [],
   "source": [
    "base_dir='/tmp'\n",
    "\n",
    "%env BASE_DIR=$base_dir\n",
    "%env S3_DATA_BUCKET_NAME = $data_bucket_name\n",
    "%env DATASET_NAME = $dataset_name\n",
    "\n",
    "# Find im2rec in our environment\n",
    "import sys,os\n",
    "\n",
    "suffix='/mxnet/tools/im2rec.py'\n",
    "im2rec = list(filter( (lambda x: os.path.isfile(x + suffix )), sys.path))[0] + suffix\n",
    "%env IM2REC=$im2rec"
   ]
  },
  {
   "cell_type": "markdown",
   "metadata": {},
   "source": [
    "Pull down our data from S3"
   ]
  },
  {
   "cell_type": "code",
   "execution_count": null,
   "metadata": {},
   "outputs": [],
   "source": [
    "%%bash\n",
    "# Pull our images from S3\n",
    "set -x\n",
    "aws s3 sync s3://$S3_DATA_BUCKET_NAME/public/$DATASET_NAME $BASE_DIR/$DATASET_NAME --quiet"
   ]
  },
  {
   "cell_type": "markdown",
   "metadata": {},
   "source": [
    "In order to train our image classifier, Sagemaker wants our data in either LST file format or RecordIO format.\n",
    "\n",
    "We can use the `im2rec.py` tool to create either of these types. Here, we'll use `im2rec.py` to split our data \n",
    "into `test` and `train` groups, creating LST files for each of these groups and outputting a file that contains \n",
    "a mapping of each class label index to its class.\n",
    "\n",
    "Then we'll convert the LST files into RecordIO files using the same `im2rec.py` tool."
   ]
  },
  {
   "cell_type": "code",
   "execution_count": null,
   "metadata": {},
   "outputs": [],
   "source": [
    "%%bash\n",
    "set -x\n",
    "# Use the IM2REC script to convert our images into RecordIO files\n",
    "\n",
    "cd $BASE_DIR\n",
    "\n",
    "# First we need to create two LST files (training and test lists), noting the correct label class for each image\n",
    "# We'll also save the output of the LST files command, since it includes a list of all of our label classes\n",
    "echo \"Creating LST files\"\n",
    "python $IM2REC --list --recursive --pass-through --test-ratio=0.3 --train-ratio=0.7 $DATASET_NAME $DATASET_NAME > ${DATASET_NAME}_classes\n",
    "\n",
    "echo \"Label classes:\"\n",
    "cat ${DATASET_NAME}_classes\n",
    "\n",
    "# Then we create RecordIO files from the LST files\n",
    "echo \"Creating RecordIO files\"\n",
    "python $IM2REC --num-thread=4 ${DATASET_NAME}_train.lst $DATASET_NAME\n",
    "python $IM2REC --num-thread=4 ${DATASET_NAME}_test.lst $DATASET_NAME\n",
    "ls -lh *.rec"
   ]
  },
  {
   "cell_type": "markdown",
   "metadata": {},
   "source": [
    "Finally, we'll upload our RecordIO files (they end in `.rec`) to an S3 bucket we'll use for training."
   ]
  },
  {
   "cell_type": "code",
   "execution_count": null,
   "metadata": {},
   "outputs": [],
   "source": [
    "# Upload our train and test RecordIO files to S3 in the bucket that our sagemaker session is using\n",
    "\n",
    "s3train_path = 's3://{}/{}/train/'.format(bucket, prefix)\n",
    "s3validation_path = 's3://{}/{}/validation/'.format(bucket, prefix)\n",
    "\n",
    "# Clean up any existing data\n",
    "!aws s3 rm s3://{bucket}/{prefix}/train --recursive\n",
    "!aws s3 rm s3://{bucket}/{prefix}/validation --recursive\n",
    "\n",
    "# Upload the rec files to the train and validation channels\n",
    "!aws s3 cp /tmp/{dataset_name}_train.rec $s3train_path\n",
    "!aws s3 cp /tmp/{dataset_name}_test.rec $s3validation_path\n",
    "\n"
   ]
  },
  {
   "cell_type": "markdown",
   "metadata": {},
   "source": [
    "### Configuring the data for our model training to use\n",
    "Set the data type and channels used for training"
   ]
  },
  {
   "cell_type": "code",
   "execution_count": null,
   "metadata": {},
   "outputs": [],
   "source": [
    "train_data = sagemaker.session.s3_input(\n",
    "    s3train_path, \n",
    "    distribution='FullyReplicated', \n",
    "    content_type='application/x-recordio', \n",
    "    s3_data_type='S3Prefix'\n",
    ")\n",
    "\n",
    "validation_data = sagemaker.session.s3_input(\n",
    "    s3validation_path, \n",
    "    distribution='FullyReplicated', \n",
    "    content_type='application/x-recordio', \n",
    "    s3_data_type='S3Prefix'\n",
    ")\n",
    "\n",
    "data_channels = {'train': train_data, 'validation': validation_data}"
   ]
  },
  {
   "cell_type": "markdown",
   "metadata": {},
   "source": [
    "Once we have the data available in the correct format for training, the next step is to actually train the model using the data. Before training the model, we need to setup the training parameters. The next section will explain the parameters in detail."
   ]
  },
  {
   "cell_type": "markdown",
   "metadata": {},
   "source": [
    "## Training\n",
    "Now that we are done with all the setup that is needed, we are ready to train our object detector. To begin, let us create a ``sageMaker.estimator.Estimator`` object. This estimator will launch the training job.\n",
    "### Training parameters\n",
    "There are two kinds of parameters that need to be set for training. The first one are the parameters for the training job. These include:\n",
    "\n",
    "* **Training instance count**: This is the number of instances on which to run the training. When the number of instances is greater than one, then the image classification algorithm will run in distributed settings. \n",
    "* **Training instance type**: This indicates the type of machine on which to run the training. Typically, we use GPU instances for these training \n",
    "* **Output path**: This the s3 folder in which the training output is stored"
   ]
  },
  {
   "cell_type": "code",
   "execution_count": null,
   "metadata": {},
   "outputs": [],
   "source": [
    "s3_output_location = 's3://{}/{}/output'.format(bucket, prefix)\n",
    "ic = sagemaker.estimator.Estimator(\n",
    "    training_image,\n",
    "    role, \n",
    "    train_instance_count=1, \n",
    "    train_instance_type='ml.p3.2xlarge',\n",
    "    train_volume_size = 10,\n",
    "    train_max_run = 360000,\n",
    "    input_mode= 'File',\n",
    "    output_path=s3_output_location,\n",
    "    sagemaker_session=sess\n",
    ")"
   ]
  },
  {
   "cell_type": "markdown",
   "metadata": {},
   "source": [
    "Apart from the above set of parameters, there are hyperparameters that are specific to the algorithm. These are:\n",
    "\n",
    "* **num_layers**: The number of layers (depth) for the network. We use 18 in this samples but other values such as 50, 152 can be used.\n",
    "* **use_pretrained_model**: Set to 1 to use pretrained model for transfer learning.\n",
    "* **image_shape**: The input image dimensions,'num_channels, height, width', for the network. It should be no larger than the actual image size. The number of channels should be same as the actual image.\n",
    "* **num_classes**: This is the number of output classes for the new dataset. Imagenet was trained with 1000 output classes but the number of output classes can be changed for fine-tuning. For caltech, we use 257 because it has 256 object categories + 1 clutter class.\n",
    "* **num_training_samples**: This is the total number of training samples. It is set to 15240 for caltech dataset with the current split.\n",
    "* **mini_batch_size**: The number of training samples used for each mini batch. In distributed training, the number of training samples used per batch will be N * mini_batch_size where N is the number of hosts on which training is run.\n",
    "* **epochs**: Number of training epochs.\n",
    "* **learning_rate**: Learning rate for training.\n",
    "* **precision_dtype**: Training datatype precision (default: float32). If set to 'float16', the training will be done in mixed_precision mode and will be faster than float32 mode\n"
   ]
  },
  {
   "cell_type": "code",
   "execution_count": null,
   "metadata": {},
   "outputs": [],
   "source": [
    "mod = None\n",
    "\n",
    "num_classes=! ls -l {base_dir}/{dataset_name} | wc -l\n",
    "num_classes=int(num_classes[0]) - 1\n",
    "\n",
    "num_training_samples=! cat {base_dir}/{dataset_name}_train.lst | wc -l\n",
    "num_training_samples = int(num_training_samples[0])\n",
    "\n",
    "# Learn more about the Sagemaker built-in Image Classifier hyperparameters here: https://docs.aws.amazon.com/sagemaker/latest/dg/IC-Hyperparameter.html\n",
    "\n",
    "# These hyperparameters we won't want to change, as they define things like\n",
    "# the size of the images we'll be sending for input, the number of training classes we have, etc.\n",
    "base_hyperparameters=dict(\n",
    "    use_pretrained_model=1,\n",
    "    image_shape='3,224,224',\n",
    "    num_classes=num_classes,\n",
    "    num_training_samples=num_training_samples,\n",
    "    precision_dtype='float32',\n",
    ")\n",
    "\n",
    "# These are hyperparameters we may want to tune, as they can affect the model training success:\n",
    "hyperparameters={\n",
    "    **base_hyperparameters, \n",
    "    **dict(\n",
    "        epochs=30,\n",
    "        learning_rate=0.001,\n",
    "        mini_batch_size=5,\n",
    "    )\n",
    "}\n",
    "\n",
    "\n",
    "ic.set_hyperparameters(**hyperparameters)\n",
    "\n",
    "hyperparameters"
   ]
  },
  {
   "cell_type": "markdown",
   "metadata": {},
   "source": [
    "### Start the training\n",
    "Start training by calling the fit method in the estimator. This will take some time because it's provisioning a new container runtime to train our model, then the actual training happens, then the trained model gets uploaded to S3 and the container is shut down."
   ]
  },
  {
   "cell_type": "code",
   "execution_count": null,
   "metadata": {
    "scrolled": false
   },
   "outputs": [],
   "source": [
    "ic.fit(inputs=data_channels, logs=True)\n",
    "\n",
    "job = ic.latest_training_job\n",
    "model_path = f\"{base_dir}/{job.name}\"\n",
    "\n",
    "print(f\"\\n\\n Finished training! The model is available for download at: {ic.output_path}/{job.name}/output/model.tar.gz\")"
   ]
  },
  {
   "cell_type": "markdown",
   "metadata": {},
   "source": [
    "### Visualizing the training and validation progress\n",
    "\n",
    "If we want, we can parse CloudWatch logs to create a chart of the training progress."
   ]
  },
  {
   "cell_type": "code",
   "execution_count": null,
   "metadata": {},
   "outputs": [],
   "source": [
    "# Graphing Training / Validation progress\n",
    "\n",
    "import boto3\n",
    "import matplotlib.pyplot as plt\n",
    "import matplotlib.ticker as ticker\n",
    "import numpy as np\n",
    "\n",
    "client = boto3.client('logs')\n",
    "\n",
    "lgn='/aws/sagemaker/TrainingJobs'\n",
    "job = ic.latest_training_job\n",
    "\n",
    "# Update this with the actual name in CloudWatch logs\n",
    "lsn=job.job_name+'/'+'algo-1-1537929893'\n",
    "log=client.get_log_events(logGroupName=lgn, logStreamName=lsn)\n",
    "\n",
    "trn_accs=[]\n",
    "val_accs=[]\n",
    "for e in log['events']:\n",
    "  msg=e['message']\n",
    "  if 'Validation-accuracy' in msg:\n",
    "        val = msg.split(\"=\")\n",
    "        val = val[1]\n",
    "        val_accs.append(float(val))\n",
    "  if 'Train-accuracy' in msg:\n",
    "        trn = msg.split(\"=\")\n",
    "        trn = trn[1]\n",
    "        trn_accs.append(float(trn))\n",
    "\n",
    "print(\"Maximum validation accuracy: %f \" % max(val_accs))\n",
    "plt.clf()\n",
    "fig, ax = plt.subplots()\n",
    "plt.xlabel('Epochs')\n",
    "plt.ylabel('Accuracy')\n",
    "trn_plot, = ax.plot(range(hyperparameters[\"epochs\"]), trn_accs, label=\"Training accuracy\")\n",
    "val_plot, = ax.plot(range(hyperparameters[\"epochs\"]), val_accs, label=\"Validation accuracy\")\n",
    "plt.legend(handles=[trn_plot,val_plot])\n",
    "ax.yaxis.set_ticks(np.arange(0.4, 1.05, 0.05))\n",
    "ax.yaxis.set_major_formatter(ticker.FormatStrFormatter('%0.2f'))\n",
    "plt.show()"
   ]
  },
  {
   "cell_type": "markdown",
   "metadata": {},
   "source": [
    "## Running a model locally\n",
    "Before deploying our model to a new endpoint, it can be helpful to download the trained model and run it locally on this notebook host. Deploying the model takes some time."
   ]
  },
  {
   "cell_type": "code",
   "execution_count": null,
   "metadata": {},
   "outputs": [],
   "source": [
    "job = ic.latest_training_job\n",
    "model_path = f\"{base_dir}/{job.name}\"\n",
    "\n",
    "# Download the trained model from S3\n",
    "! mkdir -p {model_path}\n",
    "! aws s3 cp {ic.output_path}/{job.name}/output/model.tar.gz {model_path}/ --quiet\n",
    "! cd {model_path} && tar -xzf model.tar.gz && rm model.tar.gz\n",
    "! echo \"Model extracted to {model_path}\""
   ]
  },
  {
   "cell_type": "code",
   "execution_count": null,
   "metadata": {},
   "outputs": [],
   "source": [
    "import mxnet as mx\n",
    "\n",
    "# MXNet wants the filename prefix for the model, which we can infer from prefix of the symbol.json file's name\n",
    "symbol_filename = ! ls {model_path}/*-symbol.json\n",
    "symbol_filename = symbol_filename[0].split('/')[-1]\n",
    "job_name_prefix = symbol_filename.replace('-symbol.json', '')\n",
    "model_files_prefix = f\"{model_path}/{symbol_filename.replace('-symbol.json', '')}\"\n",
    "\n",
    "# Which snapshot to use?\n",
    "epoch_snapshot_number=30\n",
    "\n",
    "# Run our model on the CPU\n",
    "ctx = mx.cpu()\n",
    "\n",
    "# Initialize our model\n",
    "sym, arg_params, aux_params = mx.model.load_checkpoint(model_files_prefix, epoch_snapshot_number)\n",
    "mod = mx.mod.Module(symbol=sym, context=ctx, label_names=None)\n",
    "mod.bind(\n",
    "    for_training=False, \n",
    "    data_shapes=[('data', (1,3,224,224))], \n",
    "    label_shapes=mod._label_shapes\n",
    ")\n",
    "mod.set_params(arg_params, aux_params, allow_missing=True)\n",
    "\n",
    "\n",
    "\n",
    "# Load classes from file (the captured output of the lst file creation)\n",
    "classes_lines = open('/tmp/objects-home-a_classes','r').read().splitlines()\n",
    "classes=[parts.split(' ')[0] for parts in classes_lines]\n",
    "\n",
    "\n",
    "\n",
    "# Imports for working with image data\n",
    "%matplotlib inline\n",
    "import matplotlib.pyplot as plt\n",
    "import numpy as np\n",
    "\n",
    "# Define a simple data batch (used for wrapping up an image to submit to the model)\n",
    "from collections import namedtuple\n",
    "Batch = namedtuple('Batch', ['data'])\n",
    "\n",
    "def get_image(fname, show=False):\n",
    "    img = mx.image.imread(fname)\n",
    "    if img is None:\n",
    "        return None\n",
    "    if show:\n",
    "        plt.imshow(img.asnumpy())\n",
    "        plt.axis('off')\n",
    "    # convert into format (batch, RGB, width, height)\n",
    "    img = mx.image.imresize(img, 224, 224) # resize\n",
    "    img = img.transpose((2, 0, 1)) # Channel first\n",
    "    img = img.expand_dims(axis=0) # batchify\n",
    "    return img\n",
    "\n",
    "def classify_local(img_path, classes):\n",
    "    img = get_image(img_path, show=False)\n",
    "    # compute the predict probabilities\n",
    "    mod.forward(Batch([img]))\n",
    "    prob = mod.get_outputs()[0].asnumpy()\n",
    "    # get highest prob index\n",
    "    best_prob_index = np.argmax(prob)\n",
    "    return(classes[best_prob_index], np.squeeze(prob)[best_prob_index])\n"
   ]
  },
  {
   "cell_type": "code",
   "execution_count": null,
   "metadata": {},
   "outputs": [],
   "source": [
    "# Clean up our local model to free RAM\n",
    "mod = None"
   ]
  },
  {
   "cell_type": "markdown",
   "metadata": {},
   "source": [
    "### Helper function to classify all images in a directory (with one sub-dir per class to test)"
   ]
  },
  {
   "cell_type": "code",
   "execution_count": null,
   "metadata": {},
   "outputs": [],
   "source": [
    "def classify_all(imgs_dir, classifier_func, classes, expected_class_from_filename_func):\n",
    "    results = []\n",
    "\n",
    "    for root, dirs, files in os.walk(imgs_dir):\n",
    "        for file in files:\n",
    "            if file.endswith(\".jpg\"):\n",
    "                full_path = os.path.join(root, file)\n",
    "                (predicted_class, probability) = classifier_func(full_path, classes)\n",
    "                expected_class = expected_class_from_filename_func(full_path)\n",
    "                is_correct = predicted_class == expected_class\n",
    "                result = dict(\n",
    "                    file=full_path,\n",
    "                    is_correct=is_correct,\n",
    "                    predicted_class=predicted_class,\n",
    "                    expected_class=expected_class,\n",
    "                    probability=probability\n",
    "                )\n",
    "                results.append(result)\n",
    "\n",
    "    return results"
   ]
  },
  {
   "cell_type": "markdown",
   "metadata": {},
   "source": [
    "### Classify some new test images never seen by the network"
   ]
  },
  {
   "cell_type": "code",
   "execution_count": null,
   "metadata": {},
   "outputs": [],
   "source": [
    "# Download a virgin data set\n",
    "test_dataset_name = 'objects-home-b'\n",
    "! aws s3 sync s3://{data_bucket_name}/public/{test_dataset_name}/ {base_dir}/{test_dataset_name} --quiet\n",
    "! echo \"Synced data to {base_dir}/{test_dataset_name}\"\n"
   ]
  },
  {
   "cell_type": "code",
   "execution_count": null,
   "metadata": {},
   "outputs": [],
   "source": [
    "import os\n",
    "\n",
    "# Run our virgin data set through the model and calculate the percentage of correct classifications\n",
    "test_dir = base_dir + '/' + test_dataset_name\n",
    "expected_class_from_filename_func = lambda f : f.split('/')[3]\n",
    "\n",
    "print(f\"\\nTesting with {test_dir}\")\n",
    "\n",
    "results = classify_all(test_dir, classify_local, classes, expected_class_from_filename_func)\n",
    "            \n",
    "rights = [r for r in results if r['is_correct'] is True]\n",
    "wrongs = [r for r in results if r['is_correct'] is False]\n",
    "n_right = len(rights) * 1.0\n",
    "n_wrong = len(wrongs) * 1.0\n",
    "\n",
    "print(\"\\nUsing Classes: \" +str(classes))\n",
    "\n",
    "print(\"\\nTotal accuracy on new images: \" + str(n_right / (n_right+n_wrong)))\n",
    "\n",
    "\n",
    "print(\"\\nBreakdown of accuracy by class:\")\n",
    "stats = { 'right': {}, 'wrong': {} }\n",
    "for r in results:\n",
    "    right_or_wrong='right' if r['is_correct'] else 'wrong'\n",
    "    stats[right_or_wrong].setdefault(r['expected_class'], []).append(r)\n",
    "\n",
    "for cls in classes:\n",
    "    rights = stats['right'].get(cls, [])\n",
    "    wrongs = stats['wrong'].get(cls, [])\n",
    "    n_right = len(rights) * 1.0\n",
    "    n_wrong = len(wrongs) * 1.0\n",
    "    print(f\"Class {cls} has {n_right + n_wrong} images with total accuracy of: \" + str(n_right / (n_right+n_wrong)))"
   ]
  },
  {
   "cell_type": "markdown",
   "metadata": {},
   "source": [
    "## Deploy the trained model"
   ]
  },
  {
   "cell_type": "code",
   "execution_count": null,
   "metadata": {},
   "outputs": [],
   "source": [
    "%%time\n",
    "# Deploying a model to an endpoint takes a few minutes, are you sure you want to do this?\n",
    "CONFIRM_DEPLOY = False # Change to True to deploy\n",
    "assert(CONFIRM_DEPLOY)\n",
    "\n",
    "ic_classifier = ic.deploy(\n",
    "    initial_instance_count = 1,\n",
    "    instance_type = 'ml.t2.medium'\n",
    ")"
   ]
  },
  {
   "cell_type": "markdown",
   "metadata": {},
   "source": [
    "### Calling a deployed endpoint"
   ]
  },
  {
   "cell_type": "code",
   "execution_count": null,
   "metadata": {},
   "outputs": [],
   "source": [
    "import json\n",
    "import numpy as np\n",
    "import os\n",
    "\n",
    "def classify_deployed(file_name, classes):\n",
    "    payload = None\n",
    "    with open(file_name, 'rb') as f:\n",
    "        payload = f.read()\n",
    "        payload = bytearray(payload)\n",
    "\n",
    "    ic_classifier.content_type = 'application/x-image'\n",
    "    result = json.loads(ic_classifier.predict(payload))\n",
    "    best_prob_index = np.argmax(result)\n",
    "    return (classes[best_prob_index], result[best_prob_index])\n",
    "\n"
   ]
  },
  {
   "cell_type": "markdown",
   "metadata": {},
   "source": [
    "### Clean up\n",
    "\n",
    "When we're done with the endpoint, we can just delete it and the backing instances will be released.  Run the following cell to delete the endpoint."
   ]
  },
  {
   "cell_type": "code",
   "execution_count": null,
   "metadata": {},
   "outputs": [],
   "source": [
    "ic_classifier.delete_endpoint()"
   ]
  },
  {
   "cell_type": "code",
   "execution_count": null,
   "metadata": {},
   "outputs": [],
   "source": [
    "\n",
    "# job = ic.latest_training_job\n",
    "# job_name_prefix = symbol_filename.replace('-symbol.json', '')\n",
    "# job_date_suffix = job.name.replace(job_name_prefix+'-', '')\n",
    "# job_date_suffix\n",
    "# datetime.strptime('2018-09-26-06-59-50-461', \"%Y-%m-%d-%H-%M-%S-%f\").timestamp()\n",
    "# #model_files_prefix\n",
    "# # t = '1984-06-02T19:05:00.000Z'\n",
    "# # parsed_t = dp.parse(t)"
   ]
  },
  {
   "cell_type": "code",
   "execution_count": null,
   "metadata": {},
   "outputs": [],
   "source": []
  }
 ],
 "metadata": {
  "kernelspec": {
   "display_name": "conda_mxnet_p36",
   "language": "python",
   "name": "conda_mxnet_p36"
  },
  "language_info": {
   "codemirror_mode": {
    "name": "ipython",
    "version": 3
   },
   "file_extension": ".py",
   "mimetype": "text/x-python",
   "name": "python",
   "nbconvert_exporter": "python",
   "pygments_lexer": "ipython3",
   "version": "3.6.5"
  },
  "notice": "Copyright 2018 Amazon.com, Inc. or its affiliates. All Rights Reserved.  Licensed under the Apache License, Version 2.0 (the \"License\"). You may not use this file except in compliance with the License. A copy of the License is located at http://aws.amazon.com/apache2.0/ or in the \"license\" file accompanying this file. This file is distributed on an \"AS IS\" BASIS, WITHOUT WARRANTIES OR CONDITIONS OF ANY KIND, either express or implied. See the License for the specific language governing permissions and limitations under the License."
 },
 "nbformat": 4,
 "nbformat_minor": 2
}
