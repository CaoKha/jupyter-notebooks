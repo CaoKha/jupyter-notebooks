{
 "cells": [
  {
   "cell_type": "markdown",
   "metadata": {},
   "source": [
    "# Image classification transfer learning demo\n",
    "\n",
    "1. [Introduction](#Introduction)\n",
    "2. [Prerequisites and Preprocessing](#Prequisites-and-Preprocessing)\n",
    "3. [Fine-tuning the Image classification model](#Fine-tuning-the-Image-classification-model)\n",
    "4. [Training parameters](#Training-parameters)\n",
    "5. [Start the training](#Start-the-training)\n",
    "6. [Inference](#Inference)\n"
   ]
  },
  {
   "cell_type": "markdown",
   "metadata": {},
   "source": []
  },
  {
   "cell_type": "markdown",
   "metadata": {},
   "source": [
    "## Prequisites and Preprocessing\n",
    "\n",
    "### Permissions and environment variables\n",
    "\n",
    "Here we set up the linkage and authentication to AWS services. There are three parts to this:\n",
    "\n",
    "* The roles used to give learning and hosting access to your data. This will automatically be obtained from the role used to start the notebook\n",
    "* The S3 bucket that you want to use for training and model data\n",
    "* The Amazon sagemaker image classification docker image which need not be changed"
   ]
  },
  {
   "cell_type": "code",
   "execution_count": 13,
   "metadata": {},
   "outputs": [
    {
     "name": "stdout",
     "output_type": "stream",
     "text": [
      "CPU times: user 564 ms, sys: 36 ms, total: 600 ms\n",
      "Wall time: 1.72 s\n"
     ]
    }
   ],
   "source": [
    "%%time\n",
    "import sagemaker\n",
    "from sagemaker import get_execution_role\n",
    "\n",
    "role = get_execution_role()\n",
    "sess = sagemaker.Session()\n",
    "bucket = sess.default_bucket()\n",
    "prefix = 'ic-transfer-learning'"
   ]
  },
  {
   "cell_type": "code",
   "execution_count": 14,
   "metadata": {},
   "outputs": [],
   "source": [
    "from sagemaker.amazon.amazon_estimator import get_image_uri\n",
    "\n",
    "training_image = get_image_uri(sess.boto_region_name, 'image-classification', repo_version=\"latest\")"
   ]
  },
  {
   "cell_type": "markdown",
   "metadata": {},
   "source": [
    "## Preparing data for our model"
   ]
  },
  {
   "cell_type": "code",
   "execution_count": 8,
   "metadata": {},
   "outputs": [
    {
     "name": "stdout",
     "output_type": "stream",
     "text": [
      "env: BASE_DIR=/tmp\n",
      "env: S3_DATA_BUCKET_NAME=s3webcamuploader83a65c76f8384092b63d212639122190\n",
      "env: DATASET_NAME=fingers-e\n"
     ]
    }
   ],
   "source": [
    "base_dir='/tmp'\n",
    "\n",
    "data_bucket_name='s3webcamuploader83a65c76f8384092b63d212639122190'\n",
    "dataset_name = 'fingers-e'\n",
    "\n",
    "%env BASE_DIR=$base_dir\n",
    "%env S3_DATA_BUCKET_NAME = $data_bucket_name\n",
    "%env DATASET_NAME = $dataset_name\n",
    "\n"
   ]
  },
  {
   "cell_type": "code",
   "execution_count": 9,
   "metadata": {},
   "outputs": [
    {
     "name": "stderr",
     "output_type": "stream",
     "text": [
      "+ aws s3 sync s3://s3webcamuploader83a65c76f8384092b63d212639122190/public/fingers-e /tmp/fingers-e --quiet\n"
     ]
    }
   ],
   "source": [
    "%%bash\n",
    "# Pull our images from S3\n",
    "set -x\n",
    "aws s3 sync s3://$S3_DATA_BUCKET_NAME/public/$DATASET_NAME $BASE_DIR/$DATASET_NAME --quiet"
   ]
  },
  {
   "cell_type": "code",
   "execution_count": 10,
   "metadata": {},
   "outputs": [
    {
     "name": "stdout",
     "output_type": "stream",
     "text": [
      "env: IM2REC=/home/ec2-user/anaconda3/envs/mxnet_p36/lib/python3.6/site-packages/mxnet/tools/im2rec.py\n"
     ]
    }
   ],
   "source": [
    "# Find im2rec in our environment\n",
    "import sys,os\n",
    "\n",
    "suffix='/mxnet/tools/im2rec.py'\n",
    "im2rec = list(filter( (lambda x: os.path.isfile(x + suffix )), sys.path))[0] + suffix\n",
    "%env IM2REC=$im2rec"
   ]
  },
  {
   "cell_type": "code",
   "execution_count": 11,
   "metadata": {},
   "outputs": [
    {
     "name": "stdout",
     "output_type": "stream",
     "text": [
      "Creating LST files\n",
      "Label classes:\n",
      "1 0\n",
      "2 1\n",
      "3 2\n",
      "Creating RecordIO files\n",
      "Creating .rec file from /tmp/fingers-e_train.lst in /tmp\n",
      "time: 0.0054509639739990234  count: 0\n",
      "Creating .rec file from /tmp/fingers-e_test.lst in /tmp\n",
      "time: 0.0053479671478271484  count: 0\n",
      "-rw-rw-r-- 1 ec2-user ec2-user 1.1M Sep 26 01:00 fingers-c_test.rec\n",
      "-rw-rw-r-- 1 ec2-user ec2-user 2.5M Sep 26 01:00 fingers-c_train.rec\n",
      "-rw-rw-r-- 1 ec2-user ec2-user 1.4M Sep 26 02:18 fingers-e_test.rec\n",
      "-rw-rw-r-- 1 ec2-user ec2-user 3.3M Sep 26 02:18 fingers-e_train.rec\n"
     ]
    },
    {
     "name": "stderr",
     "output_type": "stream",
     "text": [
      "+ cd /tmp\n",
      "+ echo 'Creating LST files'\n",
      "+ python /home/ec2-user/anaconda3/envs/mxnet_p36/lib/python3.6/site-packages/mxnet/tools/im2rec.py --list --recursive --pass-through --test-ratio=0.3 --train-ratio=0.7 fingers-e fingers-e\n",
      "+ echo 'Label classes:'\n",
      "+ cat fingers-e_classes\n",
      "+ echo 'Creating RecordIO files'\n",
      "+ python /home/ec2-user/anaconda3/envs/mxnet_p36/lib/python3.6/site-packages/mxnet/tools/im2rec.py --num-thread=4 fingers-e_train.lst fingers-e\n",
      "+ python /home/ec2-user/anaconda3/envs/mxnet_p36/lib/python3.6/site-packages/mxnet/tools/im2rec.py --num-thread=4 fingers-e_test.lst fingers-e\n",
      "+ ls -lh fingers-c_test.rec fingers-c_train.rec fingers-e_test.rec fingers-e_train.rec\n"
     ]
    }
   ],
   "source": [
    "%%bash\n",
    "set -x\n",
    "# Use the IM2REC script to convert our images into RecordIO files\n",
    "\n",
    "cd $BASE_DIR\n",
    "\n",
    "# First we need to create two LST files (training and test lists), noting the correct label class for each image\n",
    "# We'll also save the output of the LST files command, since it includes a list of all of our label classes\n",
    "echo \"Creating LST files\"\n",
    "python $IM2REC --list --recursive --pass-through --test-ratio=0.3 --train-ratio=0.7 $DATASET_NAME $DATASET_NAME > ${DATASET_NAME}_classes\n",
    "\n",
    "echo \"Label classes:\"\n",
    "cat ${DATASET_NAME}_classes\n",
    "\n",
    "# Then we create RecordIO files from the LST files\n",
    "echo \"Creating RecordIO files\"\n",
    "python $IM2REC --num-thread=4 ${DATASET_NAME}_train.lst $DATASET_NAME\n",
    "python $IM2REC --num-thread=4 ${DATASET_NAME}_test.lst $DATASET_NAME\n",
    "ls -lh *.rec"
   ]
  },
  {
   "cell_type": "code",
   "execution_count": 15,
   "metadata": {},
   "outputs": [
    {
     "name": "stdout",
     "output_type": "stream",
     "text": [
      "delete: s3://sagemaker-us-west-2-541003905521/ic-transfer-learning/train/fingers-c_train.rec\n",
      "delete: s3://sagemaker-us-west-2-541003905521/ic-transfer-learning/validation/fingers-c_test.rec\n",
      "upload: ../../../tmp/fingers-e_train.rec to s3://sagemaker-us-west-2-541003905521/ic-transfer-learning/train/fingers-e_train.rec\n",
      "upload: ../../../tmp/fingers-e_test.rec to s3://sagemaker-us-west-2-541003905521/ic-transfer-learning/validation/fingers-e_test.rec\n"
     ]
    }
   ],
   "source": [
    "# Upload our train and test RecordIO files to S3 in the bucket that our sagemaker session is using\n",
    "\n",
    "s3train_path = 's3://{}/{}/train/'.format(bucket, prefix)\n",
    "s3validation_path = 's3://{}/{}/validation/'.format(bucket, prefix)\n",
    "\n",
    "# Clean up any existing data\n",
    "!aws s3 rm s3://{bucket}/{prefix}/train --recursive\n",
    "!aws s3 rm s3://{bucket}/{prefix}/validation --recursive\n",
    "\n",
    "# Upload the rec files to the train and validation channels\n",
    "!aws s3 cp /tmp/{dataset_name}_train.rec $s3train_path\n",
    "!aws s3 cp /tmp/{dataset_name}_test.rec $s3validation_path\n",
    "\n"
   ]
  },
  {
   "cell_type": "markdown",
   "metadata": {},
   "source": [
    "## Input data specification\n",
    "Set the data type and channels used for training"
   ]
  },
  {
   "cell_type": "code",
   "execution_count": 16,
   "metadata": {},
   "outputs": [],
   "source": [
    "train_data = sagemaker.session.s3_input(\n",
    "    s3train_path, \n",
    "    distribution='FullyReplicated', \n",
    "    content_type='application/x-recordio', \n",
    "    s3_data_type='S3Prefix'\n",
    ")\n",
    "\n",
    "validation_data = sagemaker.session.s3_input(\n",
    "    s3validation_path, \n",
    "    distribution='FullyReplicated', \n",
    "    content_type='application/x-recordio', \n",
    "    s3_data_type='S3Prefix'\n",
    ")\n",
    "\n",
    "data_channels = {'train': train_data, 'validation': validation_data}"
   ]
  },
  {
   "cell_type": "markdown",
   "metadata": {},
   "source": [
    "Once we have the data available in the correct format for training, the next step is to actually train the model using the data. Before training the model, we need to setup the training parameters. The next section will explain the parameters in detail."
   ]
  },
  {
   "cell_type": "markdown",
   "metadata": {},
   "source": [
    "## Training\n",
    "Now that we are done with all the setup that is needed, we are ready to train our object detector. To begin, let us create a ``sageMaker.estimator.Estimator`` object. This estimator will launch the training job.\n",
    "### Training parameters\n",
    "There are two kinds of parameters that need to be set for training. The first one are the parameters for the training job. These include:\n",
    "\n",
    "* **Training instance count**: This is the number of instances on which to run the training. When the number of instances is greater than one, then the image classification algorithm will run in distributed settings. \n",
    "* **Training instance type**: This indicates the type of machine on which to run the training. Typically, we use GPU instances for these training \n",
    "* **Output path**: This the s3 folder in which the training output is stored"
   ]
  },
  {
   "cell_type": "code",
   "execution_count": 17,
   "metadata": {},
   "outputs": [],
   "source": [
    "s3_output_location = 's3://{}/{}/output'.format(bucket, prefix)\n",
    "ic = sagemaker.estimator.Estimator(\n",
    "    training_image,\n",
    "    role, \n",
    "    train_instance_count=1, \n",
    "    train_instance_type='ml.p3.2xlarge',\n",
    "    train_volume_size = 10,\n",
    "    train_max_run = 360000,\n",
    "    input_mode= 'File',\n",
    "    output_path=s3_output_location,\n",
    "    sagemaker_session=sess\n",
    ")"
   ]
  },
  {
   "cell_type": "markdown",
   "metadata": {},
   "source": [
    "Apart from the above set of parameters, there are hyperparameters that are specific to the algorithm. These are:\n",
    "\n",
    "* **num_layers**: The number of layers (depth) for the network. We use 18 in this samples but other values such as 50, 152 can be used.\n",
    "* **use_pretrained_model**: Set to 1 to use pretrained model for transfer learning.\n",
    "* **image_shape**: The input image dimensions,'num_channels, height, width', for the network. It should be no larger than the actual image size. The number of channels should be same as the actual image.\n",
    "* **num_classes**: This is the number of output classes for the new dataset. Imagenet was trained with 1000 output classes but the number of output classes can be changed for fine-tuning. For caltech, we use 257 because it has 256 object categories + 1 clutter class.\n",
    "* **num_training_samples**: This is the total number of training samples. It is set to 15240 for caltech dataset with the current split.\n",
    "* **mini_batch_size**: The number of training samples used for each mini batch. In distributed training, the number of training samples used per batch will be N * mini_batch_size where N is the number of hosts on which training is run.\n",
    "* **epochs**: Number of training epochs.\n",
    "* **learning_rate**: Learning rate for training.\n",
    "* **precision_dtype**: Training datatype precision (default: float32). If set to 'float16', the training will be done in mixed_precision mode and will be faster than float32 mode\n"
   ]
  },
  {
   "cell_type": "code",
   "execution_count": 24,
   "metadata": {},
   "outputs": [
    {
     "data": {
      "text/plain": [
       "{'use_pretrained_model': 1,\n",
       " 'image_shape': '3,224,224',\n",
       " 'num_classes': 3,\n",
       " 'num_training_samples': 168,\n",
       " 'precision_dtype': 'float32',\n",
       " 'epochs': 12,\n",
       " 'learning_rate': 0.01,\n",
       " 'mini_batch_size': 5}"
      ]
     },
     "execution_count": 24,
     "metadata": {},
     "output_type": "execute_result"
    }
   ],
   "source": [
    "mod = None\n",
    "\n",
    "num_classes=! ls -l {base_dir}/{dataset_name} | wc -l\n",
    "num_classes=int(num_classes[0]) - 1\n",
    "\n",
    "num_training_samples=! cat {base_dir}/{dataset_name}_train.lst | wc -l\n",
    "num_training_samples = int(num_training_samples[0])\n",
    "\n",
    "common_hyperparameters=dict(\n",
    "    use_pretrained_model=1,\n",
    "    image_shape='3,224,224',\n",
    "    num_classes=num_classes,\n",
    "    num_training_samples=num_training_samples,\n",
    "    precision_dtype='float32',\n",
    ")\n",
    "\n",
    "\n",
    "hyperparameters={\n",
    "    **common_hyperparameters, \n",
    "    **dict(\n",
    "        epochs=12,\n",
    "        learning_rate=0.01,\n",
    "        mini_batch_size=5,\n",
    "    )\n",
    "}\n",
    "\n",
    "\n",
    "ic.set_hyperparameters(**hyperparameters)\n",
    "\n",
    "hyperparameters"
   ]
  },
  {
   "cell_type": "markdown",
   "metadata": {},
   "source": [
    "## Start the training\n",
    "Start training by calling the fit method in the estimator"
   ]
  },
  {
   "cell_type": "code",
   "execution_count": null,
   "metadata": {
    "scrolled": true
   },
   "outputs": [
    {
     "name": "stderr",
     "output_type": "stream",
     "text": [
      "INFO:sagemaker:Creating training-job with name: image-classification-2018-09-26-02-27-23-709\n"
     ]
    },
    {
     "name": "stdout",
     "output_type": "stream",
     "text": [
      "2018-09-26 02:27:23 Starting - Starting the training job...\n",
      "Launching requested ML instances...\n",
      "Preparing the instances for training......\n",
      "2018-09-26 02:29:19 Downloading - Downloading input data...\n",
      "2018-09-26 02:29:33 Training - Downloading the training image.....\n",
      "\u001b[31mDocker entrypoint called with argument(s): train\u001b[0m\n",
      "\u001b[31m[09/26/2018 02:30:28 INFO 140590368741184] Reading default configuration from /opt/amazon/lib/python2.7/site-packages/image_classification/default-input.json: {u'beta_1': 0.9, u'gamma': 0.9, u'beta_2': 0.999, u'optimizer': u'sgd', u'use_pretrained_model': 0, u'eps': 1e-08, u'epochs': 30, u'lr_scheduler_factor': 0.1, u'num_layers': 152, u'image_shape': u'3,224,224', u'precision_dtype': u'float32', u'mini_batch_size': 32, u'weight_decay': 0.0001, u'learning_rate': 0.1, u'momentum': 0}\u001b[0m\n",
      "\u001b[31m[09/26/2018 02:30:28 INFO 140590368741184] Reading provided configuration from /opt/ml/input/config/hyperparameters.json: {u'learning_rate': u'0.01', u'use_pretrained_model': u'1', u'epochs': u'12', u'num_training_samples': u'168', u'precision_dtype': u'float32', u'mini_batch_size': u'5', u'image_shape': u'3,224,224', u'num_classes': u'3'}\u001b[0m\n",
      "\u001b[31m[09/26/2018 02:30:28 INFO 140590368741184] Final configuration: {u'optimizer': u'sgd', u'learning_rate': u'0.01', u'epochs': u'12', u'lr_scheduler_factor': 0.1, u'num_layers': 152, u'precision_dtype': u'float32', u'mini_batch_size': u'5', u'num_classes': u'3', u'beta_1': 0.9, u'beta_2': 0.999, u'use_pretrained_model': u'1', u'eps': 1e-08, u'weight_decay': 0.0001, u'momentum': 0, u'image_shape': u'3,224,224', u'gamma': 0.9, u'num_training_samples': u'168'}\u001b[0m\n",
      "\u001b[31m[09/26/2018 02:30:28 INFO 140590368741184] Using pretrained model for initalizing weights\u001b[0m\n",
      "\u001b[31m[09/26/2018 02:30:28 INFO 140590368741184] ---- Parameters ----\u001b[0m\n",
      "\u001b[31m[09/26/2018 02:30:28 INFO 140590368741184] num_layers: 152\u001b[0m\n",
      "\u001b[31m[09/26/2018 02:30:28 INFO 140590368741184] data type: <type 'numpy.float32'>\u001b[0m\n",
      "\u001b[31m[09/26/2018 02:30:28 INFO 140590368741184] epochs: 12\u001b[0m\n",
      "\u001b[31m[09/26/2018 02:30:28 INFO 140590368741184] optimizer: sgd\u001b[0m\n",
      "\u001b[31m[09/26/2018 02:30:28 INFO 140590368741184] momentum: 0.900000\u001b[0m\n",
      "\u001b[31m[09/26/2018 02:30:28 INFO 140590368741184] weight_decay: 0.000100\u001b[0m\n",
      "\u001b[31m[09/26/2018 02:30:28 INFO 140590368741184] learning_rate: 0.010000\u001b[0m\n",
      "\u001b[31m[09/26/2018 02:30:28 INFO 140590368741184] lr_scheduler_step defined without lr_scheduler_factor, will be ignored...\u001b[0m\n",
      "\u001b[31m[09/26/2018 02:30:28 INFO 140590368741184] mini_batch_size: 5\u001b[0m\n",
      "\u001b[31m[09/26/2018 02:30:28 INFO 140590368741184] image_shape: 3,224,224\u001b[0m\n",
      "\u001b[31m[09/26/2018 02:30:28 INFO 140590368741184] num_classes: 3\u001b[0m\n",
      "\u001b[31m[09/26/2018 02:30:28 INFO 140590368741184] num_training_samples: 168\u001b[0m\n",
      "\u001b[31m[09/26/2018 02:30:28 INFO 140590368741184] augmentation_type: None\u001b[0m\n",
      "\u001b[31m[09/26/2018 02:30:28 INFO 140590368741184] kv_store: device\u001b[0m\n",
      "\u001b[31m[09/26/2018 02:30:28 INFO 140590368741184] checkpoint_frequency: 12\u001b[0m\n",
      "\u001b[31m[09/26/2018 02:30:28 INFO 140590368741184] multi_label: 0\u001b[0m\n",
      "\u001b[31m[09/26/2018 02:30:28 INFO 140590368741184] --------------------\u001b[0m\n",
      "\u001b[31m[02:30:28] /opt/brazil-pkg-cache/packages/AIAlgorithmsMXNet/AIAlgorithmsMXNet-1.2.x.288.0/RHEL5_64/generic-flavor/src/src/nnvm/legacy_json_util.cc:209: Loading symbol saved by previous version v0.8.0. Attempting to upgrade...\u001b[0m\n",
      "\u001b[31m[02:30:28] /opt/brazil-pkg-cache/packages/AIAlgorithmsMXNet/AIAlgorithmsMXNet-1.2.x.288.0/RHEL5_64/generic-flavor/src/src/nnvm/legacy_json_util.cc:217: Symbol successfully upgraded!\u001b[0m\n",
      "\u001b[31m[09/26/2018 02:30:29 INFO 140590368741184] Setting number of threads: 7\u001b[0m\n",
      "\n",
      "Training image download completed. Training in progress.\u001b[31m[02:30:42] /opt/brazil-pkg-cache/packages/AIAlgorithmsMXNet/AIAlgorithmsMXNet-1.2.x.288.0/RHEL5_64/generic-flavor/src/src/operator/nn/./cudnn/./cudnn_algoreg-inl.h:107: Running performance tests to find the best convolution algorithm, this can take a while... (setting env variable MXNET_CUDNN_AUTOTUNE_DEFAULT to 0 to disable)\u001b[0m\n",
      "\u001b[31m[09/26/2018 02:30:46 INFO 140590368741184] Epoch[0] Batch [20]#011Speed: 36.59 samples/sec#011accuracy=0.590476\u001b[0m\n",
      "\u001b[31m[09/26/2018 02:30:48 INFO 140590368741184] Epoch[0] Train-accuracy=0.612121\u001b[0m\n",
      "\u001b[31m[09/26/2018 02:30:48 INFO 140590368741184] Epoch[0] Time cost=6.171\u001b[0m\n",
      "\u001b[31m[09/26/2018 02:30:49 INFO 140590368741184] Epoch[0] Validation-accuracy=0.371429\u001b[0m\n",
      "\u001b[31m[09/26/2018 02:30:51 INFO 140590368741184] Epoch[1] Batch [20]#011Speed: 37.68 samples/sec#011accuracy=0.714286\u001b[0m\n",
      "\u001b[31m[09/26/2018 02:30:53 INFO 140590368741184] Epoch[1] Train-accuracy=0.715152\u001b[0m\n",
      "\u001b[31m[09/26/2018 02:30:53 INFO 140590368741184] Epoch[1] Time cost=4.414\u001b[0m\n",
      "\u001b[31m[09/26/2018 02:30:54 INFO 140590368741184] Epoch[1] Validation-accuracy=0.866667\u001b[0m\n",
      "\u001b[31m[09/26/2018 02:30:57 INFO 140590368741184] Epoch[2] Batch [20]#011Speed: 37.54 samples/sec#011accuracy=0.628571\u001b[0m\n",
      "\u001b[31m[09/26/2018 02:30:58 INFO 140590368741184] Epoch[2] Train-accuracy=0.612121\u001b[0m\n",
      "\u001b[31m[09/26/2018 02:30:58 INFO 140590368741184] Epoch[2] Time cost=4.392\u001b[0m\n",
      "\u001b[31m[09/26/2018 02:30:59 INFO 140590368741184] Epoch[2] Validation-accuracy=0.371429\u001b[0m\n",
      "\u001b[31m[09/26/2018 02:31:02 INFO 140590368741184] Epoch[3] Batch [20]#011Speed: 37.27 samples/sec#011accuracy=0.685714\u001b[0m\n",
      "\u001b[31m[09/26/2018 02:31:04 INFO 140590368741184] Epoch[3] Train-accuracy=0.703030\u001b[0m\n",
      "\u001b[31m[09/26/2018 02:31:04 INFO 140590368741184] Epoch[3] Time cost=4.422\u001b[0m\n",
      "\u001b[31m[09/26/2018 02:31:05 INFO 140590368741184] Epoch[3] Validation-accuracy=0.571429\u001b[0m\n",
      "\u001b[31m[09/26/2018 02:31:08 INFO 140590368741184] Epoch[4] Batch [20]#011Speed: 37.87 samples/sec#011accuracy=0.828571\u001b[0m\n",
      "\u001b[31m[09/26/2018 02:31:09 INFO 140590368741184] Epoch[4] Train-accuracy=0.806061\u001b[0m\n",
      "\u001b[31m[09/26/2018 02:31:09 INFO 140590368741184] Epoch[4] Time cost=4.380\u001b[0m\n",
      "\u001b[31m[09/26/2018 02:31:10 INFO 140590368741184] Epoch[4] Validation-accuracy=0.946667\u001b[0m\n",
      "\u001b[31m[09/26/2018 02:31:13 INFO 140590368741184] Epoch[5] Batch [20]#011Speed: 37.47 samples/sec#011accuracy=0.809524\u001b[0m\n",
      "\u001b[31m[09/26/2018 02:31:15 INFO 140590368741184] Epoch[5] Train-accuracy=0.812121\u001b[0m\n",
      "\u001b[31m[09/26/2018 02:31:15 INFO 140590368741184] Epoch[5] Time cost=4.479\u001b[0m\n",
      "\u001b[31m[09/26/2018 02:31:16 INFO 140590368741184] Epoch[5] Validation-accuracy=0.928571\u001b[0m\n",
      "\u001b[31m[09/26/2018 02:31:18 INFO 140590368741184] Epoch[6] Batch [20]#011Speed: 37.24 samples/sec#011accuracy=0.714286\u001b[0m\n",
      "\u001b[31m[09/26/2018 02:31:20 INFO 140590368741184] Epoch[6] Train-accuracy=0.751515\u001b[0m\n",
      "\u001b[31m[09/26/2018 02:31:20 INFO 140590368741184] Epoch[6] Time cost=4.432\u001b[0m\n",
      "\u001b[31m[09/26/2018 02:31:21 INFO 140590368741184] Epoch[6] Validation-accuracy=0.866667\u001b[0m\n",
      "\u001b[31m[09/26/2018 02:31:24 INFO 140590368741184] Epoch[7] Batch [20]#011Speed: 37.49 samples/sec#011accuracy=0.828571\u001b[0m\n",
      "\u001b[31m[09/26/2018 02:31:25 INFO 140590368741184] Epoch[7] Train-accuracy=0.836364\u001b[0m\n",
      "\u001b[31m[09/26/2018 02:31:25 INFO 140590368741184] Epoch[7] Time cost=4.396\u001b[0m\n",
      "\u001b[31m[09/26/2018 02:31:26 INFO 140590368741184] Epoch[7] Validation-accuracy=0.714286\u001b[0m\n",
      "\u001b[31m[09/26/2018 02:31:29 INFO 140590368741184] Epoch[8] Batch [20]#011Speed: 37.52 samples/sec#011accuracy=0.866667\u001b[0m\n",
      "\u001b[31m[09/26/2018 02:31:31 INFO 140590368741184] Epoch[8] Train-accuracy=0.860606\u001b[0m\n",
      "\u001b[31m[09/26/2018 02:31:31 INFO 140590368741184] Epoch[8] Time cost=4.406\u001b[0m\n",
      "\u001b[31m[09/26/2018 02:31:32 INFO 140590368741184] Epoch[8] Validation-accuracy=0.828571\u001b[0m\n",
      "\u001b[31m[09/26/2018 02:31:34 INFO 140590368741184] Epoch[9] Batch [20]#011Speed: 37.77 samples/sec#011accuracy=0.838095\u001b[0m\n",
      "\u001b[31m[09/26/2018 02:31:36 INFO 140590368741184] Epoch[9] Train-accuracy=0.824242\u001b[0m\n",
      "\u001b[31m[09/26/2018 02:31:36 INFO 140590368741184] Epoch[9] Time cost=4.399\u001b[0m\n",
      "\u001b[31m[09/26/2018 02:31:37 INFO 140590368741184] Epoch[9] Validation-accuracy=0.826667\u001b[0m\n",
      "\u001b[31m[09/26/2018 02:31:40 INFO 140590368741184] Epoch[10] Batch [20]#011Speed: 37.76 samples/sec#011accuracy=0.904762\u001b[0m\n",
      "\n",
      "2018-09-26 02:31:52 Uploading - Uploading generated training model\u001b[31m[09/26/2018 02:31:42 INFO 140590368741184] Epoch[10] Train-accuracy=0.842424\u001b[0m\n",
      "\u001b[31m[09/26/2018 02:31:42 INFO 140590368741184] Epoch[10] Time cost=4.477\u001b[0m\n",
      "\u001b[31m[09/26/2018 02:31:42 INFO 140590368741184] Epoch[10] Validation-accuracy=0.914286\u001b[0m\n",
      "\u001b[31m[09/26/2018 02:31:45 INFO 140590368741184] Epoch[11] Batch [20]#011Speed: 37.49 samples/sec#011accuracy=0.742857\u001b[0m\n",
      "\u001b[31m[09/26/2018 02:31:47 INFO 140590368741184] Epoch[11] Train-accuracy=0.781818\u001b[0m\n",
      "\u001b[31m[09/26/2018 02:31:47 INFO 140590368741184] Epoch[11] Time cost=4.405\u001b[0m\n",
      "\u001b[31m[09/26/2018 02:31:47 INFO 140590368741184] Saved checkpoint to \"/opt/ml/model/image-classification-0012.params\"\u001b[0m\n",
      "\u001b[31m[09/26/2018 02:31:48 INFO 140590368741184] Epoch[11] Validation-accuracy=0.946667\u001b[0m\n"
     ]
    },
    {
     "name": "stderr",
     "output_type": "stream",
     "text": [
      "/home/ec2-user/anaconda3/envs/mxnet_p36/lib/python3.6/site-packages/sagemaker/session.py:875: DeprecationWarning: generator 'multi_stream_iter' raised StopIteration\n",
      "  for idx, event in sagemaker.logs.multi_stream_iter(client, log_group, stream_names, positions):\n"
     ]
    }
   ],
   "source": [
    "ic.fit(inputs=data_channels, logs=True)\n",
    "# 341 secs on a p2.xlarge and did not converge well after 30 epochs\n",
    "# 169 secs on a p3.2xlarge AND converged T and V to 1.0 in 10 epochs! Test data shows .85 accuracy\n",
    "# 169 secs on a p3.2xlarge with 12 epochs and .86 test accuracy...\n",
    "# "
   ]
  },
  {
   "cell_type": "markdown",
   "metadata": {},
   "source": [
    "## Running a model locally"
   ]
  },
  {
   "cell_type": "code",
   "execution_count": 46,
   "metadata": {},
   "outputs": [
    {
     "data": {
      "text/plain": [
       "702"
      ]
     },
     "execution_count": 46,
     "metadata": {},
     "output_type": "execute_result"
    }
   ],
   "source": [
    "mod = None\n",
    "\n",
    "import gc\n",
    "gc.collect()"
   ]
  },
  {
   "cell_type": "code",
   "execution_count": 20,
   "metadata": {},
   "outputs": [
    {
     "name": "stdout",
     "output_type": "stream",
     "text": [
      "Model extracted to /tmp/image-classification-2018-09-26-02-19-48-589\n"
     ]
    }
   ],
   "source": [
    "job = ic.latest_training_job\n",
    "model_path = f\"{base_dir}/{job.name}\"\n",
    "\n",
    "# Download the trained model from S3\n",
    "! mkdir -p {model_path}\n",
    "! aws s3 cp {ic.output_path}/{job.name}/output/model.tar.gz {model_path}/ --quiet\n",
    "! cd {model_path} && tar -xzf model.tar.gz && rm model.tar.gz\n",
    "! echo \"Model extracted to {model_path}\""
   ]
  },
  {
   "cell_type": "code",
   "execution_count": 21,
   "metadata": {},
   "outputs": [],
   "source": [
    "import mxnet as mx\n",
    "\n",
    "# MXNet wants the filename prefix for the model, which we can infer from prefix of the symbol.json file's name\n",
    "symbol_filename = ! ls {model_path}/*-symbol.json\n",
    "symbol_filename = symbol_filename[0].split('/')[-1]\n",
    "model_files_prefix = f\"{model_path}/{symbol_filename.replace('-symbol.json', '')}\"\n",
    "\n",
    "# Which snapshot to use?\n",
    "epoch_snapshot_number=12\n",
    "\n",
    "# Run our model on the CPU\n",
    "ctx = mx.cpu()\n",
    "\n",
    "# Initialize our model\n",
    "sym, arg_params, aux_params = mx.model.load_checkpoint(model_files_prefix, epoch_snapshot_number)\n",
    "mod = mx.mod.Module(symbol=sym, context=ctx, label_names=None)\n",
    "mod.bind(\n",
    "    for_training=False, \n",
    "    data_shapes=[('data', (1,3,224,224))], \n",
    "    label_shapes=mod._label_shapes\n",
    ")\n",
    "mod.set_params(arg_params, aux_params, allow_missing=True)\n",
    "\n",
    "# Load classes from file (the captured output of the lst file creation)\n",
    "classes_lines = open('/tmp/fingers-c_classes','r').read().splitlines()\n",
    "classes=[parts.split(' ')[0] for parts in classes_lines]\n",
    "classes\n",
    "\n",
    "# Imports for working with image data\n",
    "%matplotlib inline\n",
    "import matplotlib.pyplot as plt\n",
    "import numpy as np\n",
    "\n",
    "# Define a simple data batch (used for wrapping up an image to submit to the model)\n",
    "from collections import namedtuple\n",
    "Batch = namedtuple('Batch', ['data'])\n",
    "\n",
    "def get_image(fname, show=False):\n",
    "    img = mx.image.imread(fname)\n",
    "    if img is None:\n",
    "        return None\n",
    "    if show:\n",
    "        plt.imshow(img.asnumpy())\n",
    "        plt.axis('off')\n",
    "    # convert into format (batch, RGB, width, height)\n",
    "    img = mx.image.imresize(img, 224, 224) # resize\n",
    "    img = img.transpose((2, 0, 1)) # Channel first\n",
    "    img = img.expand_dims(axis=0) # batchify\n",
    "    return img\n",
    "\n",
    "def classify_local(img_path, classes):\n",
    "    img = get_image(img_path, show=False)\n",
    "    # compute the predict probabilities\n",
    "    mod.forward(Batch([img]))\n",
    "    prob = mod.get_outputs()[0].asnumpy()\n",
    "    # get highest prob index\n",
    "    best_prob_index = np.argmax(prob)\n",
    "#     # print the top-5\n",
    "#     prob = np.squeeze(prob)\n",
    "#     a = np.argsort(prob)[::-1]\n",
    "#     for i in a[0:5]:\n",
    "#         print('probability=%f, class=%s' %(prob[i], classes[i]))\n",
    "    return(classes[best_prob_index], np.squeeze(prob)[best_prob_index])\n",
    "\n",
    "#classify_local('/tmp/fingers-d/1/19a7f84f-46e4-4b79-a66c-54feac6649b0.jpg', classes)\n"
   ]
  },
  {
   "cell_type": "code",
   "execution_count": 179,
   "metadata": {},
   "outputs": [],
   "source": [
    "# Clean up our local model to free RAM\n",
    "mod = None"
   ]
  },
  {
   "cell_type": "markdown",
   "metadata": {},
   "source": [
    "### Helper function to classify all images in a directory (with one sub-dir per class to test)"
   ]
  },
  {
   "cell_type": "code",
   "execution_count": 2,
   "metadata": {},
   "outputs": [],
   "source": [
    "def classify_all(imgs_dir, classifier_func, classes, expected_class_from_filename_func):\n",
    "    results = []\n",
    "\n",
    "    for root, dirs, files in os.walk(imgs_dir):\n",
    "        for file in files:\n",
    "            if file.endswith(\".jpg\"):\n",
    "                full_path = os.path.join(root, file)\n",
    "                (predicted_class, probability) = classifier_func(full_path, classes)\n",
    "                expected_class = expected_class_from_filename_func(full_path)\n",
    "                is_correct = predicted_class == expected_class\n",
    "                result = dict(\n",
    "                    file=full_path,\n",
    "                    is_correct=is_correct,\n",
    "                    predicted_class=predicted_class,\n",
    "                    expected_class=expected_class,\n",
    "                    probability=probability\n",
    "                )\n",
    "                results.append(result)\n",
    "\n",
    "    return results"
   ]
  },
  {
   "cell_type": "markdown",
   "metadata": {},
   "source": [
    "### Classify some new test images never seen by the network"
   ]
  },
  {
   "cell_type": "code",
   "execution_count": 22,
   "metadata": {},
   "outputs": [
    {
     "name": "stdout",
     "output_type": "stream",
     "text": [
      "download: s3://s3webcamuploader83a65c76f8384092b63d212639122190/public/fingers-f/1/59d6540a-5af1-41f4-b430-a82d733985a1.jpg to ../../../tmp/fingers-f/1/59d6540a-5af1-41f4-b430-a82d733985a1.jpg\n",
      "download: s3://s3webcamuploader83a65c76f8384092b63d212639122190/public/fingers-f/1/150c6e0a-54d9-4fc6-bcc6-177c3f13da26.jpg to ../../../tmp/fingers-f/1/150c6e0a-54d9-4fc6-bcc6-177c3f13da26.jpg\n",
      "download: s3://s3webcamuploader83a65c76f8384092b63d212639122190/public/fingers-f/1/19288ba0-2795-4f85-ad07-1ca6f617c661.jpg to ../../../tmp/fingers-f/1/19288ba0-2795-4f85-ad07-1ca6f617c661.jpg\n",
      "download: s3://s3webcamuploader83a65c76f8384092b63d212639122190/public/fingers-f/1/89e43b31-d8de-4364-b2ed-1724a5d84935.jpg to ../../../tmp/fingers-f/1/89e43b31-d8de-4364-b2ed-1724a5d84935.jpg\n",
      "download: s3://s3webcamuploader83a65c76f8384092b63d212639122190/public/fingers-f/1/8ef344e3-700d-4acd-9083-9acc27c18812.jpg to ../../../tmp/fingers-f/1/8ef344e3-700d-4acd-9083-9acc27c18812.jpg\n",
      "download: s3://s3webcamuploader83a65c76f8384092b63d212639122190/public/fingers-f/1/8f069256-3ea4-4f36-b2d4-e1994342677e.jpg to ../../../tmp/fingers-f/1/8f069256-3ea4-4f36-b2d4-e1994342677e.jpg\n",
      "download: s3://s3webcamuploader83a65c76f8384092b63d212639122190/public/fingers-f/1/215a2286-e4c9-4843-9441-9679003afd96.jpg to ../../../tmp/fingers-f/1/215a2286-e4c9-4843-9441-9679003afd96.jpg\n",
      "download: s3://s3webcamuploader83a65c76f8384092b63d212639122190/public/fingers-f/1/187e3999-8865-49a3-9558-05fb3ae7b633.jpg to ../../../tmp/fingers-f/1/187e3999-8865-49a3-9558-05fb3ae7b633.jpg\n",
      "download: s3://s3webcamuploader83a65c76f8384092b63d212639122190/public/fingers-f/1/b7e062ca-a562-411c-a4c1-417792030f24.jpg to ../../../tmp/fingers-f/1/b7e062ca-a562-411c-a4c1-417792030f24.jpg\n",
      "download: s3://s3webcamuploader83a65c76f8384092b63d212639122190/public/fingers-f/1/bff1f994-b7e6-4999-97ac-e56183235597.jpg to ../../../tmp/fingers-f/1/bff1f994-b7e6-4999-97ac-e56183235597.jpg\n",
      "download: s3://s3webcamuploader83a65c76f8384092b63d212639122190/public/fingers-f/1/e62a8259-f831-4d67-8bbe-b32d5dff08cf.jpg to ../../../tmp/fingers-f/1/e62a8259-f831-4d67-8bbe-b32d5dff08cf.jpg\n",
      "download: s3://s3webcamuploader83a65c76f8384092b63d212639122190/public/fingers-f/1/e6f76939-a538-4796-8036-50642d7cf252.jpg to ../../../tmp/fingers-f/1/e6f76939-a538-4796-8036-50642d7cf252.jpg\n",
      "download: s3://s3webcamuploader83a65c76f8384092b63d212639122190/public/fingers-f/1/fea7c350-8b2f-47e3-ba79-352980af041d.jpg to ../../../tmp/fingers-f/1/fea7c350-8b2f-47e3-ba79-352980af041d.jpg\n",
      "download: s3://s3webcamuploader83a65c76f8384092b63d212639122190/public/fingers-f/2/03759b98-ae6c-4bf1-8988-c280da32b6b4.jpg to ../../../tmp/fingers-f/2/03759b98-ae6c-4bf1-8988-c280da32b6b4.jpg\n",
      "download: s3://s3webcamuploader83a65c76f8384092b63d212639122190/public/fingers-f/2/09bf1e79-ae64-42dc-a1ff-c0604eec2e50.jpg to ../../../tmp/fingers-f/2/09bf1e79-ae64-42dc-a1ff-c0604eec2e50.jpg\n",
      "download: s3://s3webcamuploader83a65c76f8384092b63d212639122190/public/fingers-f/2/0a84ffea-cac9-4b6f-980e-8c1ee8976728.jpg to ../../../tmp/fingers-f/2/0a84ffea-cac9-4b6f-980e-8c1ee8976728.jpg\n",
      "download: s3://s3webcamuploader83a65c76f8384092b63d212639122190/public/fingers-f/2/1d7ef4b1-63a6-427b-8014-3aa652b0f6ad.jpg to ../../../tmp/fingers-f/2/1d7ef4b1-63a6-427b-8014-3aa652b0f6ad.jpg\n",
      "download: s3://s3webcamuploader83a65c76f8384092b63d212639122190/public/fingers-f/1/e40b87f4-3e83-43e9-acc3-fde2a6d43a25.jpg to ../../../tmp/fingers-f/1/e40b87f4-3e83-43e9-acc3-fde2a6d43a25.jpg\n",
      "download: s3://s3webcamuploader83a65c76f8384092b63d212639122190/public/fingers-f/2/35e18799-d403-4bb9-9fae-adf04f180152.jpg to ../../../tmp/fingers-f/2/35e18799-d403-4bb9-9fae-adf04f180152.jpg\n",
      "download: s3://s3webcamuploader83a65c76f8384092b63d212639122190/public/fingers-f/2/3be662c6-d9f6-4292-8d9e-286bc7a86ce6.jpg to ../../../tmp/fingers-f/2/3be662c6-d9f6-4292-8d9e-286bc7a86ce6.jpg\n",
      "download: s3://s3webcamuploader83a65c76f8384092b63d212639122190/public/fingers-f/2/4847c760-d300-43d8-99aa-0230938def49.jpg to ../../../tmp/fingers-f/2/4847c760-d300-43d8-99aa-0230938def49.jpg\n",
      "download: s3://s3webcamuploader83a65c76f8384092b63d212639122190/public/fingers-f/2/35a92a0d-5683-4239-9aa8-d6765d93b989.jpg to ../../../tmp/fingers-f/2/35a92a0d-5683-4239-9aa8-d6765d93b989.jpg\n",
      "download: s3://s3webcamuploader83a65c76f8384092b63d212639122190/public/fingers-f/2/53071cb1-7fc5-4bc1-85c7-11e00262d7f5.jpg to ../../../tmp/fingers-f/2/53071cb1-7fc5-4bc1-85c7-11e00262d7f5.jpg\n",
      "download: s3://s3webcamuploader83a65c76f8384092b63d212639122190/public/fingers-f/2/5344af2d-b761-4d69-9794-61fbe601b04e.jpg to ../../../tmp/fingers-f/2/5344af2d-b761-4d69-9794-61fbe601b04e.jpg\n",
      "download: s3://s3webcamuploader83a65c76f8384092b63d212639122190/public/fingers-f/2/5753fe4e-e7f8-4ac6-b07e-03de3552f348.jpg to ../../../tmp/fingers-f/2/5753fe4e-e7f8-4ac6-b07e-03de3552f348.jpg\n",
      "download: s3://s3webcamuploader83a65c76f8384092b63d212639122190/public/fingers-f/1/2accf5e3-79f4-4412-b240-0e21c2f0fac6.jpg to ../../../tmp/fingers-f/1/2accf5e3-79f4-4412-b240-0e21c2f0fac6.jpg\n",
      "download: s3://s3webcamuploader83a65c76f8384092b63d212639122190/public/fingers-f/2/a2dca748-4c82-4d5d-ba63-4a48794de33a.jpg to ../../../tmp/fingers-f/2/a2dca748-4c82-4d5d-ba63-4a48794de33a.jpg\n",
      "download: s3://s3webcamuploader83a65c76f8384092b63d212639122190/public/fingers-f/1/b61a8d40-a165-4b35-b776-2ac25b23aace.jpg to ../../../tmp/fingers-f/1/b61a8d40-a165-4b35-b776-2ac25b23aace.jpg\n",
      "download: s3://s3webcamuploader83a65c76f8384092b63d212639122190/public/fingers-f/2/cf586355-d21a-4894-9761-fb4565129c1e.jpg to ../../../tmp/fingers-f/2/cf586355-d21a-4894-9761-fb4565129c1e.jpg\n",
      "download: s3://s3webcamuploader83a65c76f8384092b63d212639122190/public/fingers-f/1/093e6112-1521-417d-bc8a-f31b4994a9df.jpg to ../../../tmp/fingers-f/1/093e6112-1521-417d-bc8a-f31b4994a9df.jpg\n",
      "download: s3://s3webcamuploader83a65c76f8384092b63d212639122190/public/fingers-f/1/9dbfae50-eb90-4f76-a768-5258fa98d86c.jpg to ../../../tmp/fingers-f/1/9dbfae50-eb90-4f76-a768-5258fa98d86c.jpg\n",
      "download: s3://s3webcamuploader83a65c76f8384092b63d212639122190/public/fingers-f/1/4101f27b-fc97-4581-9cf3-c9ff4df770d5.jpg to ../../../tmp/fingers-f/1/4101f27b-fc97-4581-9cf3-c9ff4df770d5.jpg\n",
      "download: s3://s3webcamuploader83a65c76f8384092b63d212639122190/public/fingers-f/2/634d6b56-8830-4eb3-9600-a62641b57228.jpg to ../../../tmp/fingers-f/2/634d6b56-8830-4eb3-9600-a62641b57228.jpg\n",
      "download: s3://s3webcamuploader83a65c76f8384092b63d212639122190/public/fingers-f/3/0075d0c1-23e2-435b-ab9c-0ed86fd57b3a.jpg to ../../../tmp/fingers-f/3/0075d0c1-23e2-435b-ab9c-0ed86fd57b3a.jpg\n",
      "download: s3://s3webcamuploader83a65c76f8384092b63d212639122190/public/fingers-f/3/0567a759-5f30-457e-bd30-bf536d3aedc9.jpg to ../../../tmp/fingers-f/3/0567a759-5f30-457e-bd30-bf536d3aedc9.jpg\n",
      "download: s3://s3webcamuploader83a65c76f8384092b63d212639122190/public/fingers-f/2/fd641ec5-2b0a-4d9c-920f-bb1045d1147c.jpg to ../../../tmp/fingers-f/2/fd641ec5-2b0a-4d9c-920f-bb1045d1147c.jpg\n",
      "download: s3://s3webcamuploader83a65c76f8384092b63d212639122190/public/fingers-f/3/32dcab7e-8851-41f5-acb9-123ea023e43c.jpg to ../../../tmp/fingers-f/3/32dcab7e-8851-41f5-acb9-123ea023e43c.jpg\n",
      "download: s3://s3webcamuploader83a65c76f8384092b63d212639122190/public/fingers-f/2/ffb8cba1-bd9d-4762-b802-f165cf7baca3.jpg to ../../../tmp/fingers-f/2/ffb8cba1-bd9d-4762-b802-f165cf7baca3.jpg\n",
      "download: s3://s3webcamuploader83a65c76f8384092b63d212639122190/public/fingers-f/3/208ca79a-6f36-4e8d-9efd-e3ee3b969286.jpg to ../../../tmp/fingers-f/3/208ca79a-6f36-4e8d-9efd-e3ee3b969286.jpg\n",
      "download: s3://s3webcamuploader83a65c76f8384092b63d212639122190/public/fingers-f/3/3cb4b1ff-230f-41a8-83f4-adff03a7319b.jpg to ../../../tmp/fingers-f/3/3cb4b1ff-230f-41a8-83f4-adff03a7319b.jpg\n",
      "download: s3://s3webcamuploader83a65c76f8384092b63d212639122190/public/fingers-f/2/b78fc95a-74c9-48cd-8909-165bb3ef1d4a.jpg to ../../../tmp/fingers-f/2/b78fc95a-74c9-48cd-8909-165bb3ef1d4a.jpg\n",
      "download: s3://s3webcamuploader83a65c76f8384092b63d212639122190/public/fingers-f/3/65e5cb3f-4e57-4cbd-bb90-3044834fab58.jpg to ../../../tmp/fingers-f/3/65e5cb3f-4e57-4cbd-bb90-3044834fab58.jpg\n",
      "download: s3://s3webcamuploader83a65c76f8384092b63d212639122190/public/fingers-f/3/32f85866-c12f-42da-ad23-76d53a07ce2a.jpg to ../../../tmp/fingers-f/3/32f85866-c12f-42da-ad23-76d53a07ce2a.jpg\n",
      "download: s3://s3webcamuploader83a65c76f8384092b63d212639122190/public/fingers-f/3/08d874af-61a2-4e9e-b22a-77d934b4bc7b.jpg to ../../../tmp/fingers-f/3/08d874af-61a2-4e9e-b22a-77d934b4bc7b.jpg\n",
      "download: s3://s3webcamuploader83a65c76f8384092b63d212639122190/public/fingers-f/3/9a175b5c-6ebc-404e-a8bb-12111365ddcc.jpg to ../../../tmp/fingers-f/3/9a175b5c-6ebc-404e-a8bb-12111365ddcc.jpg\n",
      "download: s3://s3webcamuploader83a65c76f8384092b63d212639122190/public/fingers-f/3/b8625914-66d5-435a-a6de-05f8b6f950de.jpg to ../../../tmp/fingers-f/3/b8625914-66d5-435a-a6de-05f8b6f950de.jpg\n",
      "download: s3://s3webcamuploader83a65c76f8384092b63d212639122190/public/fingers-f/3/84c5287a-6105-4715-95c8-4f27c5e885d1.jpg to ../../../tmp/fingers-f/3/84c5287a-6105-4715-95c8-4f27c5e885d1.jpg\n",
      "download: s3://s3webcamuploader83a65c76f8384092b63d212639122190/public/fingers-f/2/6d0662ab-62ea-4799-b8fc-62ed07ae5d1e.jpg to ../../../tmp/fingers-f/2/6d0662ab-62ea-4799-b8fc-62ed07ae5d1e.jpg\n",
      "download: s3://s3webcamuploader83a65c76f8384092b63d212639122190/public/fingers-f/3/b96a5fe0-19fc-4c76-927f-5b45283dff22.jpg to ../../../tmp/fingers-f/3/b96a5fe0-19fc-4c76-927f-5b45283dff22.jpg\n",
      "download: s3://s3webcamuploader83a65c76f8384092b63d212639122190/public/fingers-f/3/53a1f3c0-c6a0-467e-bac2-d5ae2d064f98.jpg to ../../../tmp/fingers-f/3/53a1f3c0-c6a0-467e-bac2-d5ae2d064f98.jpg\n",
      "download: s3://s3webcamuploader83a65c76f8384092b63d212639122190/public/fingers-f/3/7bd6a7cf-e1fe-4dcd-9a4f-f7d2797925d7.jpg to ../../../tmp/fingers-f/3/7bd6a7cf-e1fe-4dcd-9a4f-f7d2797925d7.jpg\n",
      "download: s3://s3webcamuploader83a65c76f8384092b63d212639122190/public/fingers-f/3/bd324ec9-962c-4d65-b971-18f19e27464e.jpg to ../../../tmp/fingers-f/3/bd324ec9-962c-4d65-b971-18f19e27464e.jpg\n",
      "download: s3://s3webcamuploader83a65c76f8384092b63d212639122190/public/fingers-f/3/e459d7b8-e118-4353-8b3f-c0947e0fef8d.jpg to ../../../tmp/fingers-f/3/e459d7b8-e118-4353-8b3f-c0947e0fef8d.jpg\n",
      "download: s3://s3webcamuploader83a65c76f8384092b63d212639122190/public/fingers-f/3/e22f6282-f31b-47a4-b408-f6f472520e3a.jpg to ../../../tmp/fingers-f/3/e22f6282-f31b-47a4-b408-f6f472520e3a.jpg\n",
      "download: s3://s3webcamuploader83a65c76f8384092b63d212639122190/public/fingers-f/3/ce48bb33-f906-42cc-85d0-aebbe7c0579b.jpg to ../../../tmp/fingers-f/3/ce48bb33-f906-42cc-85d0-aebbe7c0579b.jpg\n",
      "download: s3://s3webcamuploader83a65c76f8384092b63d212639122190/public/fingers-f/3/d6e1f9b9-7276-4438-9254-e45a112c98f5.jpg to ../../../tmp/fingers-f/3/d6e1f9b9-7276-4438-9254-e45a112c98f5.jpg\n",
      "download: s3://s3webcamuploader83a65c76f8384092b63d212639122190/public/fingers-f/3/f7928527-68c8-4e79-b08b-73579cb8458f.jpg to ../../../tmp/fingers-f/3/f7928527-68c8-4e79-b08b-73579cb8458f.jpg\n",
      "download: s3://s3webcamuploader83a65c76f8384092b63d212639122190/public/fingers-f/3/d92d1a78-5e7e-4338-84d4-b9af06a164d6.jpg to ../../../tmp/fingers-f/3/d92d1a78-5e7e-4338-84d4-b9af06a164d6.jpg\n",
      "download: s3://s3webcamuploader83a65c76f8384092b63d212639122190/public/fingers-f/2/8975e1e7-3b88-4a43-bd89-a283c91b169c.jpg to ../../../tmp/fingers-f/2/8975e1e7-3b88-4a43-bd89-a283c91b169c.jpg\n",
      "download: s3://s3webcamuploader83a65c76f8384092b63d212639122190/public/fingers-f/1/1387af8b-e84d-43b5-a290-d2e8ecad0392.jpg to ../../../tmp/fingers-f/1/1387af8b-e84d-43b5-a290-d2e8ecad0392.jpg\n"
     ]
    }
   ],
   "source": [
    "# Download a virgin data set\n",
    "test_dataset_name = 'fingers-f'\n",
    "! aws s3 sync s3://{data_bucket_name}/public/{test_dataset_name}/ {base_dir}/{test_dataset_name} "
   ]
  },
  {
   "cell_type": "code",
   "execution_count": 23,
   "metadata": {},
   "outputs": [
    {
     "name": "stdout",
     "output_type": "stream",
     "text": [
      "\n",
      "\n",
      " Total accuracy on new images: 0.9\n"
     ]
    }
   ],
   "source": [
    "import os\n",
    "\n",
    "# Run our virgin data set through the model and calculate the percentage of correct classifications\n",
    "test_dir = base_dir + '/' + test_dataset_name\n",
    "expected_class_from_filename_func = lambda f : f.split('/')[3]\n",
    "\n",
    "results = classify_all(test_dir, classify_local, classes, expected_class_from_filename_func)\n",
    "            \n",
    "rights = [r for r in results if r['is_correct'] is True]\n",
    "wrongs = [r for r in results if r['is_correct'] is False]\n",
    "n_right = len(rights) * 1.0\n",
    "n_wrong = len(wrongs) * 1.0\n",
    "\n",
    "print(\"\\n\\n Total accuracy on new images: \" + str(n_right / (n_right+n_wrong)))\n",
    "\n",
    "mod = None"
   ]
  },
  {
   "cell_type": "markdown",
   "metadata": {},
   "source": [
    "## Deploy the trained model"
   ]
  },
  {
   "cell_type": "code",
   "execution_count": null,
   "metadata": {},
   "outputs": [],
   "source": [
    "# Deploying a model to an endpoint takes a few minutes, are you sure you want to do this?\n",
    "CONFIRM_DEPLOY = False # Change to true to deploy\n",
    "assert(CONFIRM_DEPLOY)\n",
    "\n",
    "ic_classifier = ic.deploy(\n",
    "    initial_instance_count = 1,\n",
    "    instance_type = 'ml.t2.medium'\n",
    ")"
   ]
  },
  {
   "cell_type": "markdown",
   "metadata": {},
   "source": [
    "### Calling a deployed endpoint"
   ]
  },
  {
   "cell_type": "code",
   "execution_count": 98,
   "metadata": {},
   "outputs": [],
   "source": [
    "import json\n",
    "import numpy as np\n",
    "import os\n",
    "\n",
    "def classify_deployed(file_name, classes):\n",
    "    payload = None\n",
    "    with open(file_name, 'rb') as f:\n",
    "        payload = f.read()\n",
    "        payload = bytearray(payload)\n",
    "\n",
    "    ic_classifier.content_type = 'application/x-image'\n",
    "    result = json.loads(ic_classifier.predict(payload))\n",
    "    best_prob_index = np.argmax(result)\n",
    "    return (classes[best_prob_index], result[best_prob_index])\n",
    "\n"
   ]
  },
  {
   "cell_type": "markdown",
   "metadata": {},
   "source": [
    "### Clean up\n",
    "\n",
    "When we're done with the endpoint, we can just delete it and the backing instances will be released.  Run the following cell to delete the endpoint."
   ]
  },
  {
   "cell_type": "code",
   "execution_count": 97,
   "metadata": {},
   "outputs": [
    {
     "name": "stderr",
     "output_type": "stream",
     "text": [
      "INFO:sagemaker:Deleting endpoint with name: image-classification-2018-09-25-02-07-14-375\n"
     ]
    },
    {
     "ename": "ClientError",
     "evalue": "An error occurred (ValidationException) when calling the DeleteEndpoint operation: Could not find endpoint \"arn:aws:sagemaker:us-west-2:541003905521:endpoint/image-classification-2018-09-25-02-07-14-375\".",
     "output_type": "error",
     "traceback": [
      "\u001b[0;31m---------------------------------------------------------------------------\u001b[0m",
      "\u001b[0;31mClientError\u001b[0m                               Traceback (most recent call last)",
      "\u001b[0;32m<ipython-input-97-a3332d1db370>\u001b[0m in \u001b[0;36m<module>\u001b[0;34m()\u001b[0m\n\u001b[0;32m----> 1\u001b[0;31m \u001b[0mic_classifier\u001b[0m\u001b[0;34m.\u001b[0m\u001b[0mdelete_endpoint\u001b[0m\u001b[0;34m(\u001b[0m\u001b[0;34m)\u001b[0m\u001b[0;34m\u001b[0m\u001b[0m\n\u001b[0m",
      "\u001b[0;32m~/anaconda3/envs/mxnet_p36/lib/python3.6/site-packages/sagemaker/predictor.py\u001b[0m in \u001b[0;36mdelete_endpoint\u001b[0;34m(self)\u001b[0m\n\u001b[1;32m     97\u001b[0m         \"\"\"Delete the Amazon SageMaker endpoint backing this predictor.\n\u001b[1;32m     98\u001b[0m         \"\"\"\n\u001b[0;32m---> 99\u001b[0;31m         \u001b[0mself\u001b[0m\u001b[0;34m.\u001b[0m\u001b[0msagemaker_session\u001b[0m\u001b[0;34m.\u001b[0m\u001b[0mdelete_endpoint\u001b[0m\u001b[0;34m(\u001b[0m\u001b[0mself\u001b[0m\u001b[0;34m.\u001b[0m\u001b[0mendpoint\u001b[0m\u001b[0;34m)\u001b[0m\u001b[0;34m\u001b[0m\u001b[0m\n\u001b[0m\u001b[1;32m    100\u001b[0m \u001b[0;34m\u001b[0m\u001b[0m\n\u001b[1;32m    101\u001b[0m \u001b[0;34m\u001b[0m\u001b[0m\n",
      "\u001b[0;32m~/anaconda3/envs/mxnet_p36/lib/python3.6/site-packages/sagemaker/session.py\u001b[0m in \u001b[0;36mdelete_endpoint\u001b[0;34m(self, endpoint_name)\u001b[0m\n\u001b[1;32m    556\u001b[0m         \"\"\"\n\u001b[1;32m    557\u001b[0m         \u001b[0mLOGGER\u001b[0m\u001b[0;34m.\u001b[0m\u001b[0minfo\u001b[0m\u001b[0;34m(\u001b[0m\u001b[0;34m'Deleting endpoint with name: {}'\u001b[0m\u001b[0;34m.\u001b[0m\u001b[0mformat\u001b[0m\u001b[0;34m(\u001b[0m\u001b[0mendpoint_name\u001b[0m\u001b[0;34m)\u001b[0m\u001b[0;34m)\u001b[0m\u001b[0;34m\u001b[0m\u001b[0m\n\u001b[0;32m--> 558\u001b[0;31m         \u001b[0mself\u001b[0m\u001b[0;34m.\u001b[0m\u001b[0msagemaker_client\u001b[0m\u001b[0;34m.\u001b[0m\u001b[0mdelete_endpoint\u001b[0m\u001b[0;34m(\u001b[0m\u001b[0mEndpointName\u001b[0m\u001b[0;34m=\u001b[0m\u001b[0mendpoint_name\u001b[0m\u001b[0;34m)\u001b[0m\u001b[0;34m\u001b[0m\u001b[0m\n\u001b[0m\u001b[1;32m    559\u001b[0m \u001b[0;34m\u001b[0m\u001b[0m\n\u001b[1;32m    560\u001b[0m     \u001b[0;32mdef\u001b[0m \u001b[0mwait_for_job\u001b[0m\u001b[0;34m(\u001b[0m\u001b[0mself\u001b[0m\u001b[0;34m,\u001b[0m \u001b[0mjob\u001b[0m\u001b[0;34m,\u001b[0m \u001b[0mpoll\u001b[0m\u001b[0;34m=\u001b[0m\u001b[0;36m5\u001b[0m\u001b[0;34m)\u001b[0m\u001b[0;34m:\u001b[0m\u001b[0;34m\u001b[0m\u001b[0m\n",
      "\u001b[0;32m~/anaconda3/envs/mxnet_p36/lib/python3.6/site-packages/botocore/client.py\u001b[0m in \u001b[0;36m_api_call\u001b[0;34m(self, *args, **kwargs)\u001b[0m\n\u001b[1;32m    312\u001b[0m                     \"%s() only accepts keyword arguments.\" % py_operation_name)\n\u001b[1;32m    313\u001b[0m             \u001b[0;31m# The \"self\" in this scope is referring to the BaseClient.\u001b[0m\u001b[0;34m\u001b[0m\u001b[0;34m\u001b[0m\u001b[0m\n\u001b[0;32m--> 314\u001b[0;31m             \u001b[0;32mreturn\u001b[0m \u001b[0mself\u001b[0m\u001b[0;34m.\u001b[0m\u001b[0m_make_api_call\u001b[0m\u001b[0;34m(\u001b[0m\u001b[0moperation_name\u001b[0m\u001b[0;34m,\u001b[0m \u001b[0mkwargs\u001b[0m\u001b[0;34m)\u001b[0m\u001b[0;34m\u001b[0m\u001b[0m\n\u001b[0m\u001b[1;32m    315\u001b[0m \u001b[0;34m\u001b[0m\u001b[0m\n\u001b[1;32m    316\u001b[0m         \u001b[0m_api_call\u001b[0m\u001b[0;34m.\u001b[0m\u001b[0m__name__\u001b[0m \u001b[0;34m=\u001b[0m \u001b[0mstr\u001b[0m\u001b[0;34m(\u001b[0m\u001b[0mpy_operation_name\u001b[0m\u001b[0;34m)\u001b[0m\u001b[0;34m\u001b[0m\u001b[0m\n",
      "\u001b[0;32m~/anaconda3/envs/mxnet_p36/lib/python3.6/site-packages/botocore/client.py\u001b[0m in \u001b[0;36m_make_api_call\u001b[0;34m(self, operation_name, api_params)\u001b[0m\n\u001b[1;32m    610\u001b[0m             \u001b[0merror_code\u001b[0m \u001b[0;34m=\u001b[0m \u001b[0mparsed_response\u001b[0m\u001b[0;34m.\u001b[0m\u001b[0mget\u001b[0m\u001b[0;34m(\u001b[0m\u001b[0;34m\"Error\"\u001b[0m\u001b[0;34m,\u001b[0m \u001b[0;34m{\u001b[0m\u001b[0;34m}\u001b[0m\u001b[0;34m)\u001b[0m\u001b[0;34m.\u001b[0m\u001b[0mget\u001b[0m\u001b[0;34m(\u001b[0m\u001b[0;34m\"Code\"\u001b[0m\u001b[0;34m)\u001b[0m\u001b[0;34m\u001b[0m\u001b[0m\n\u001b[1;32m    611\u001b[0m             \u001b[0merror_class\u001b[0m \u001b[0;34m=\u001b[0m \u001b[0mself\u001b[0m\u001b[0;34m.\u001b[0m\u001b[0mexceptions\u001b[0m\u001b[0;34m.\u001b[0m\u001b[0mfrom_code\u001b[0m\u001b[0;34m(\u001b[0m\u001b[0merror_code\u001b[0m\u001b[0;34m)\u001b[0m\u001b[0;34m\u001b[0m\u001b[0m\n\u001b[0;32m--> 612\u001b[0;31m             \u001b[0;32mraise\u001b[0m \u001b[0merror_class\u001b[0m\u001b[0;34m(\u001b[0m\u001b[0mparsed_response\u001b[0m\u001b[0;34m,\u001b[0m \u001b[0moperation_name\u001b[0m\u001b[0;34m)\u001b[0m\u001b[0;34m\u001b[0m\u001b[0m\n\u001b[0m\u001b[1;32m    613\u001b[0m         \u001b[0;32melse\u001b[0m\u001b[0;34m:\u001b[0m\u001b[0;34m\u001b[0m\u001b[0m\n\u001b[1;32m    614\u001b[0m             \u001b[0;32mreturn\u001b[0m \u001b[0mparsed_response\u001b[0m\u001b[0;34m\u001b[0m\u001b[0m\n",
      "\u001b[0;31mClientError\u001b[0m: An error occurred (ValidationException) when calling the DeleteEndpoint operation: Could not find endpoint \"arn:aws:sagemaker:us-west-2:541003905521:endpoint/image-classification-2018-09-25-02-07-14-375\"."
     ]
    }
   ],
   "source": [
    "ic_classifier.delete_endpoint()"
   ]
  },
  {
   "cell_type": "code",
   "execution_count": null,
   "metadata": {},
   "outputs": [],
   "source": []
  }
 ],
 "metadata": {
  "kernelspec": {
   "display_name": "conda_mxnet_p36",
   "language": "python",
   "name": "conda_mxnet_p36"
  },
  "language_info": {
   "codemirror_mode": {
    "name": "ipython",
    "version": 3
   },
   "file_extension": ".py",
   "mimetype": "text/x-python",
   "name": "python",
   "nbconvert_exporter": "python",
   "pygments_lexer": "ipython3",
   "version": "3.6.5"
  },
  "notice": "Copyright 2018 Amazon.com, Inc. or its affiliates. All Rights Reserved.  Licensed under the Apache License, Version 2.0 (the \"License\"). You may not use this file except in compliance with the License. A copy of the License is located at http://aws.amazon.com/apache2.0/ or in the \"license\" file accompanying this file. This file is distributed on an \"AS IS\" BASIS, WITHOUT WARRANTIES OR CONDITIONS OF ANY KIND, either express or implied. See the License for the specific language governing permissions and limitations under the License."
 },
 "nbformat": 4,
 "nbformat_minor": 2
}
